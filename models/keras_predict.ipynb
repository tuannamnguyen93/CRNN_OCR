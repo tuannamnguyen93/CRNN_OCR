{
 "cells": [
  {
   "cell_type": "code",
   "execution_count": 12,
   "metadata": {},
   "outputs": [],
   "source": [
    "import os\n",
    "os.environ[\"CUDA_VISIBLE_DEVICES\"] = \"-1\"\n",
    "from keras.models import Model, load_model\n",
    "import pickle\n",
    "import numpy as np\n",
    "import itertools\n",
    "from keras import backend as K\n",
    "import tensorflow as tf\n",
    "import joblib\n",
    "def ctc_lambda_func(args):\n",
    "    y_pred, labels, input_length, label_length = args\n",
    "\n",
    "    # the 2 is critical here since the first couple outputs of the RNN\n",
    "    # tend to be garbage:\n",
    "    y_pred = y_pred[:, 2:, :]\n",
    "    return K.ctc_batch_cost(labels, y_pred, input_length, label_length)\n",
    "with open(\"../data/sequences_20_all_test_new.txt\", \"r\") as f:\n",
    "    seq_labels = pickle.load(f)\n"
   ]
  },
  {
   "cell_type": "code",
   "execution_count": 1,
   "metadata": {},
   "outputs": [],
   "source": [
    "import pickle\n",
    "with open(\"testfile3.txt\",\"r\") as f1:\n",
    "        seq = pickle.load(f1)"
   ]
  },
  {
   "cell_type": "code",
   "execution_count": 18,
   "metadata": {},
   "outputs": [],
   "source": [
    "import json\n",
    "with open(\"testfile2.txt\",'r') as f2:\n",
    "        dict = json.load(f2)"
   ]
  },
  {
   "cell_type": "code",
   "execution_count": 9,
   "metadata": {},
   "outputs": [
    {
     "name": "stdout",
     "output_type": "stream",
     "text": [
      "49\n"
     ]
    }
   ],
   "source": [
    "for key,values in seq.items():\n",
    "    if int(key)==39:\n",
    "        print values"
   ]
  },
  {
   "cell_type": "code",
   "execution_count": 40,
   "metadata": {},
   "outputs": [],
   "source": [
    "import pickle\n",
    "\n",
    "with open(\"../data/sequences_20_all_train_new.txt\",\"r\") as f1:\n",
    "\tseq = pickle.load(f1)\n",
    "\n",
    "for k, v in seq.items():\n",
    "\tfor i in range(0,len(seq[k])):\n",
    "\t\tif seq[k][i] >=49:\n",
    "\t\t\tseq[k][i]+=1"
   ]
  },
  {
   "cell_type": "code",
   "execution_count": 39,
   "metadata": {},
   "outputs": [
    {
     "name": "stdout",
     "output_type": "stream",
     "text": [
      "[2, 3, 4, 5, 6, 7]\n"
     ]
    }
   ],
   "source": [
    "a=[1,2,3,4,5,6]\n",
    "for i in range(len(a)):\n",
    "    a[i]+=1\n",
    "print a"
   ]
  },
  {
   "cell_type": "code",
   "execution_count": 43,
   "metadata": {},
   "outputs": [
    {
     "data": {
      "text/plain": [
       "[2939,\n",
       " 606,\n",
       " 2428,\n",
       " 355,\n",
       " 1475,\n",
       " 2644,\n",
       " 2515,\n",
       " 218,\n",
       " 3080,\n",
       " 1071,\n",
       " 487,\n",
       " 1626,\n",
       " 2347,\n",
       " 2226,\n",
       " 3136,\n",
       " 3136,\n",
       " 3136,\n",
       " 3136,\n",
       " 3136,\n",
       " 3136]"
      ]
     },
     "execution_count": 43,
     "metadata": {},
     "output_type": "execute_result"
    }
   ],
   "source": [
    "seq[\"Sequence_362943.png\"]"
   ]
  },
  {
   "cell_type": "code",
   "execution_count": 41,
   "metadata": {},
   "outputs": [
    {
     "name": "stdout",
     "output_type": "stream",
     "text": [
      "Sequence_362943.png [2939, 606, 2428, 355, 1475, 2644, 2515, 218, 3080, 1071, 487, 1626, 2347, 2226, 3136, 3136, 3136, 3136, 3136, 3136]\n",
      "Sequence_514370.png [707, 2249, 1387, 2481, 1316, 2566, 2041, 897, 2159, 1725, 929, 906, 3136, 3136, 3136, 3136, 3136, 3136, 3136, 3136]\n",
      "Sequence_287114.png [1493, 1323, 1049, 387, 397, 2466, 2375, 3025, 2576, 3136, 3136, 3136, 3136, 3136, 3136, 3136, 3136, 3136, 3136, 3136]\n",
      "Sequence_879219.png [2116, 2320, 33, 400, 2425, 3136, 3136, 3136, 3136, 3136, 3136, 3136, 3136, 3136, 3136, 3136, 3136, 3136, 3136, 3136]\n",
      "Sequence_782761.png [1928, 220, 1241, 240, 2083, 912, 1448, 2583, 536, 2667, 1350, 2896, 1955, 1873, 2551, 710, 638, 1779, 2625, 2674]\n",
      "Sequence_65844.png [892, 454, 1362, 2237, 2931, 2333, 905, 2752, 395, 1311, 2054, 1553, 708, 584, 2634, 3136, 3136, 3136, 3136, 3136]\n",
      "Sequence_332996.png [1521, 2412, 3009, 1196, 2607, 2487, 652, 2623, 1011, 1221, 533, 2469, 2950, 467, 2020, 1202, 268, 346, 2670, 3136]\n",
      "Sequence_698163.png [1584, 2184, 1138, 1737, 2610, 1337, 2097, 886, 2590, 1277, 1154, 2933, 3136, 3136, 3136, 3136, 3136, 3136, 3136, 3136]\n",
      "Sequence_643173.png [522, 1803, 2608, 2211, 2502, 147, 2391, 3049, 2771, 961, 251, 3136, 3136, 3136, 3136, 3136, 3136, 3136, 3136, 3136]\n",
      "Sequence_574806.png [3103, 853, 2970, 3136, 3136, 3136, 3136, 3136, 3136, 3136, 3136, 3136, 3136, 3136, 3136, 3136, 3136, 3136, 3136, 3136]\n"
     ]
    }
   ],
   "source": [
    "with open(\"../data/\"+name,\"w\") as f:\n",
    "    f.write(pickle.dumps(s))"
   ]
  },
  {
   "cell_type": "code",
   "execution_count": 34,
   "metadata": {},
   "outputs": [],
   "source": [
    "i=1\n",
    "for key,values in dict.items():\n",
    "    if values<49:\n",
    "        if seq[key.split(\"_\")[1]]-values > 0:\n",
    "            print i\n",
    "            i+=1"
   ]
  },
  {
   "cell_type": "code",
   "execution_count": 28,
   "metadata": {},
   "outputs": [
    {
     "data": {
      "text/plain": [
       "<matplotlib.image.AxesImage at 0x7fbc68e5a190>"
      ]
     },
     "execution_count": 28,
     "metadata": {},
     "output_type": "execute_result"
    },
    {
     "data": {
      "image/png": "[encoded data removed]",
      "text/plain": [
       "<Figure size 432x288 with 1 Axes>"
      ]
     },
     "metadata": {},
     "output_type": "display_data"
    }
   ],
   "source": [
    "import cv2\n",
    "import matplotlib.pyplot as plt \n",
    "img = cv2.imread(\"../data/Seq_data_20_all_same_test_new/\" + \"Sequence_\" + \"1007\" + \".png\")\n",
    "\n",
    "img = cv2.resize(img,(581,32))\n",
    "labels_true=seq_labels[\"Sequence_\" + \"1007\" + \".png\"]\n",
    "cv2.imwrite(\"test.png\",img)\n",
    "plt.imshow(img)"
   ]
  },
  {
   "cell_type": "code",
   "execution_count": 29,
   "metadata": {},
   "outputs": [
    {
     "name": "stdout",
     "output_type": "stream",
     "text": [
      "[360, 1398, 888, 2756, 711, 591, 2156, 659, 2478, 1157, 788, 805, 2948, 3135, 3135, 3135, 3135, 3135, 3135, 3135]\n"
     ]
    }
   ],
   "source": [
    "print labels_true\n"
   ]
  },
  {
   "cell_type": "code",
   "execution_count": 29,
   "metadata": {},
   "outputs": [],
   "source": [
    "from ast import literal_eval\n",
    "with open(\"testfile2.txt\",'r') as f2:\n",
    "    dict = f2.read()\n",
    "    dict = literal_eval(dict)      "
   ]
  },
  {
   "cell_type": "code",
   "execution_count": 22,
   "metadata": {},
   "outputs": [
    {
     "name": "stdout",
     "output_type": "stream",
     "text": [
      "併\n"
     ]
    }
   ],
   "source": [
    "e = '\\033$B' + bytearray.fromhex(\"%x\" % int(19003)) \n",
    "g = e.decode('iso2022_jp')\n",
    "print g"
   ]
  },
  {
   "cell_type": "code",
   "execution_count": 21,
   "metadata": {},
   "outputs": [
    {
     "name": "stdout",
     "output_type": "stream",
     "text": [
      "ETL9_19003\n"
     ]
    }
   ],
   "source": [
    "for key, values in dict.items():\n",
    "    if values==2565:\n",
    "        print key"
   ]
  },
  {
   "cell_type": "code",
   "execution_count": 6,
   "metadata": {},
   "outputs": [
    {
     "name": "stderr",
     "output_type": "stream",
     "text": [
      "/usr/local/lib/python2.7/dist-packages/keras/models.py:255: UserWarning: No training configuration found in save file: the model was *not* compiled. Compile it manually.\n",
      "  warnings.warn('No training configuration found in save file: '\n"
     ]
    }
   ],
   "source": [
    "model=load_model('../ditconme.h5', custom_objects = {'<lambda>': lambda y_true, y_pred: y_pred,'tf':tf})\n",
    "\n"
   ]
  },
  {
   "cell_type": "code",
   "execution_count": 15,
   "metadata": {},
   "outputs": [],
   "source": [
    "def decode_batch(out):\n",
    "    ret = []\n",
    "    for j in range(out.shape[0]):\n",
    "        out_best = list(np.argmax(out[j, 2:], 1))\n",
    "        out_best = [k for k, g in itertools.groupby(out_best)]\n",
    "        outstr = []\n",
    "        for c in out_best:\n",
    "            outstr.append(c)\n",
    "        ret.append(outstr)\n",
    "    return ret"
   ]
  },
  {
   "cell_type": "code",
   "execution_count": 33,
   "metadata": {},
   "outputs": [
    {
     "name": "stdout",
     "output_type": "stream",
     "text": [
      "(1, 32, 581, 3)\n"
     ]
    }
   ],
   "source": [
    "X = np.expand_dims(img,axis=0)\n",
    "\n",
    "print X.shape"
   ]
  },
  {
   "cell_type": "code",
   "execution_count": 34,
   "metadata": {},
   "outputs": [],
   "source": [
    "S=model.predict(X)"
   ]
  },
  {
   "cell_type": "code",
   "execution_count": 35,
   "metadata": {},
   "outputs": [
    {
     "name": "stdout",
     "output_type": "stream",
     "text": [
      "[[361, 3136, 1399, 3136, 2757, 3136, 712, 3136, 417, 3136, 2157, 3136, 660, 3136, 2479, 3136, 1158, 3136, 789, 3136, 806, 3136, 2949, 3136]]\n"
     ]
    }
   ],
   "source": [
    "print decode_batch(S)"
   ]
  },
  {
   "cell_type": "code",
   "execution_count": 22,
   "metadata": {},
   "outputs": [
    {
     "data": {
      "text/plain": [
       "(1, 550, 73)"
      ]
     },
     "execution_count": 22,
     "metadata": {},
     "output_type": "execute_result"
    }
   ],
   "source": [
    "S.shape  "
   ]
  },
  {
   "cell_type": "code",
   "execution_count": null,
   "metadata": {},
   "outputs": [],
   "source": []
  },
  {
   "cell_type": "code",
   "execution_count": null,
   "metadata": {},
   "outputs": [],
   "source": []
  }
 ],
 "metadata": {
  "kernelspec": {
   "display_name": "Python 2",
   "language": "python",
   "name": "python2"
  },
  "language_info": {
   "codemirror_mode": {
    "name": "ipython",
    "version": 2
   },
   "file_extension": ".py",
   "mimetype": "text/x-python",
   "name": "python",
   "nbconvert_exporter": "python",
   "pygments_lexer": "ipython2",
   "version": "2.7.12"
  }
 },
 "nbformat": 4,
 "nbformat_minor": 2
}
