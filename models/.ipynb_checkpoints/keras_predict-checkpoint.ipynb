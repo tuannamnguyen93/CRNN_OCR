{
 "cells": [
  {
   "cell_type": "code",
   "execution_count": 15,
   "metadata": {},
   "outputs": [],
   "source": [
    "import os\n",
    "os.environ[\"CUDA_VISIBLE_DEVICES\"] = \"-1\"\n",
    "from keras.models import Model, load_model\n",
    "import pickle\n",
    "import numpy as np\n",
    "import itertools\n",
    "from keras import backend as K\n",
    "import tensorflow as tf\n",
    "import joblib\n",
    "def ctc_lambda_func(args):\n",
    "    y_pred, labels, input_length, label_length = args\n",
    "\n",
    "    # the 2 is critical here since the first couple outputs of the RNN\n",
    "    # tend to be garbage:\n",
    "    y_pred = y_pred[:, 2:, :]\n",
    "    return K.ctc_batch_cost(labels, y_pred, input_length, label_length)\n",
    "with open(\"../data/sequences_20_all_train_new.txt\", \"r\") as f:\n",
    "    seq_labels = pickle.load(f)\n"
   ]
  },
  {
   "cell_type": "code",
   "execution_count": 1,
   "metadata": {},
   "outputs": [],
   "source": [
    "import pickle\n",
    "with open(\"testfile3.txt\",\"r\") as f1:\n",
    "        seq = pickle.load(f1)"
   ]
  },
  {
   "cell_type": "code",
   "execution_count": 18,
   "metadata": {},
   "outputs": [],
   "source": [
    "import json\n",
    "with open(\"testfile2.txt\",'r') as f2:\n",
    "        dict = json.load(f2)"
   ]
  },
  {
   "cell_type": "code",
   "execution_count": 9,
   "metadata": {},
   "outputs": [
    {
     "name": "stdout",
     "output_type": "stream",
     "text": [
      "49\n"
     ]
    }
   ],
   "source": [
    "for key,values in seq.items():\n",
    "    if int(key)==39:\n",
    "        print values"
   ]
  },
  {
   "cell_type": "code",
   "execution_count": 35,
   "metadata": {},
   "outputs": [],
   "source": [
    "import pickle\n",
    "\n",
    "with open(\"../data/sequences_20_all_train_new.txt\",\"r\") as f1:\n",
    "\tseq = pickle.load(f1)\n",
    "\n",
    "for k, v in seq.items():\n",
    "\tfor i in range(0,len(seq[k])):\n",
    "\t\tif seq[k][i] >=49:\n",
    "\t\t\tseq[k][i]+=1"
   ]
  },
  {
   "cell_type": "code",
   "execution_count": 39,
   "metadata": {},
   "outputs": [
    {
     "name": "stdout",
     "output_type": "stream",
     "text": [
      "[2, 3, 4, 5, 6, 7]\n"
     ]
    }
   ],
   "source": [
    "a=[1,2,3,4,5,6]\n",
    "for i in range(len(a)):\n",
    "    a[i]+=1\n",
    "print a"
   ]
  },
  {
   "cell_type": "code",
   "execution_count": 37,
   "metadata": {},
   "outputs": [
    {
     "name": "stdout",
     "output_type": "stream",
     "text": [
      "Sequence_362943.png [2938, 605, 2427, 354, 1474, 2643, 2514, 217, 3079, 1070, 486, 1625, 2346, 2225, 3135, 3135, 3135, 3135, 3135, 3135]\n",
      "Sequence_514370.png [706, 2248, 1386, 2480, 1315, 2565, 2040, 896, 2158, 1724, 928, 905, 3135, 3135, 3135, 3135, 3135, 3135, 3135, 3135]\n",
      "Sequence_287114.png [1492, 1322, 1048, 386, 396, 2465, 2374, 3024, 2575, 3135, 3135, 3135, 3135, 3135, 3135, 3135, 3135, 3135, 3135, 3135]\n",
      "Sequence_879219.png [2115, 2319, 33, 399, 2424, 3135, 3135, 3135, 3135, 3135, 3135, 3135, 3135, 3135, 3135, 3135, 3135, 3135, 3135, 3135]\n",
      "Sequence_782761.png [1927, 219, 1240, 239, 2082, 911, 1447, 2582, 535, 2666, 1349, 2895, 1954, 1872, 2550, 709, 637, 1778, 2624, 2673]\n",
      "Sequence_65844.png [891, 453, 1361, 2236, 2930, 2332, 904, 2751, 394, 1310, 2053, 1552, 707, 583, 2633, 3135, 3135, 3135, 3135, 3135]\n",
      "Sequence_332996.png [1520, 2411, 3008, 1195, 2606, 2486, 651, 2622, 1010, 1220, 532, 2468, 2949, 466, 2019, 1201, 267, 345, 2669, 3135]\n",
      "Sequence_698163.png [1583, 2183, 1137, 1736, 2609, 1336, 2096, 885, 2589, 1276, 1153, 2932, 3135, 3135, 3135, 3135, 3135, 3135, 3135, 3135]\n",
      "Sequence_643173.png [521, 1802, 2607, 2210, 2501, 146, 2390, 3048, 2770, 960, 250, 3135, 3135, 3135, 3135, 3135, 3135, 3135, 3135, 3135]\n",
      "Sequence_574806.png [3102, 852, 2969, 3135, 3135, 3135, 3135, 3135, 3135, 3135, 3135, 3135, 3135, 3135, 3135, 3135, 3135, 3135, 3135, 3135]\n"
     ]
    }
   ],
   "source": [
    "i=0\n",
    "for k, v in seq.items():\n",
    "    print k,v\n",
    "    i+=1\n",
    "    if i==10:\n",
    "        break"
   ]
  },
  {
   "cell_type": "code",
   "execution_count": 34,
   "metadata": {},
   "outputs": [],
   "source": [
    "i=1\n",
    "for key,values in dict.items():\n",
    "    if values<49:\n",
    "        if seq[key.split(\"_\")[1]]-values > 0:\n",
    "            print i\n",
    "            i+=1"
   ]
  },
  {
   "cell_type": "code",
   "execution_count": 16,
   "metadata": {},
   "outputs": [
    {
     "data": {
      "text/plain": [
       "<matplotlib.image.AxesImage at 0x7fc40ff8ad10>"
      ]
     },
     "execution_count": 16,
     "metadata": {},
     "output_type": "execute_result"
    },
    {
     "data": {
      "image/png": "[encoded data removed]",
      "text/plain": [
       "<Figure size 432x288 with 1 Axes>"
      ]
     },
     "metadata": {},
     "output_type": "display_data"
    }
   ],
   "source": [
    "import cv2\n",
    "import matplotlib.pyplot as plt \n",
    "img = cv2.imread(\"../data/Seq_data_20_all_same_train_new/\" + \"Sequence_\" + \"108\" + \".png\")\n",
    "\n",
    "img = cv2.resize(img,(581,32))\n",
    "labels_true=seq_labels[\"Sequence_\" + \"108\" + \".png\"]\n",
    "cv2.imwrite(\"test.png\",img)\n",
    "plt.imshow(img)"
   ]
  },
  {
   "cell_type": "code",
   "execution_count": 17,
   "metadata": {},
   "outputs": [
    {
     "name": "stdout",
     "output_type": "stream",
     "text": [
      "[2465, 2033, 2565, 1322, 38, 3135, 3135, 3135, 3135, 3135, 3135, 3135, 3135, 3135, 3135, 3135, 3135, 3135, 3135, 3135]\n"
     ]
    }
   ],
   "source": [
    "print labels_true\n"
   ]
  },
  {
   "cell_type": "code",
   "execution_count": 29,
   "metadata": {},
   "outputs": [],
   "source": [
    "from ast import literal_eval\n",
    "with open(\"testfile2.txt\",'r') as f2:\n",
    "    dict = f2.read()\n",
    "    dict = literal_eval(dict)      "
   ]
  },
  {
   "cell_type": "code",
   "execution_count": 22,
   "metadata": {},
   "outputs": [
    {
     "name": "stdout",
     "output_type": "stream",
     "text": [
      "併\n"
     ]
    }
   ],
   "source": [
    "e = '\\033$B' + bytearray.fromhex(\"%x\" % int(19003)) \n",
    "g = e.decode('iso2022_jp')\n",
    "print g"
   ]
  },
  {
   "cell_type": "code",
   "execution_count": 21,
   "metadata": {},
   "outputs": [
    {
     "name": "stdout",
     "output_type": "stream",
     "text": [
      "ETL9_19003\n"
     ]
    }
   ],
   "source": [
    "for key, values in dict.items():\n",
    "    if values==2565:\n",
    "        print key"
   ]
  },
  {
   "cell_type": "code",
   "execution_count": 10,
   "metadata": {},
   "outputs": [
    {
     "name": "stderr",
     "output_type": "stream",
     "text": [
      "/usr/local/lib/python2.7/dist-packages/keras/models.py:255: UserWarning: No training configuration found in save file: the model was *not* compiled. Compile it manually.\n",
      "  warnings.warn('No training configuration found in save file: '\n"
     ]
    }
   ],
   "source": [
    "model=load_model('../ditconme.h5', custom_objects = {'<lambda>': lambda y_true, y_pred: y_pred,'tf':tf})\n",
    "\n"
   ]
  },
  {
   "cell_type": "code",
   "execution_count": 11,
   "metadata": {},
   "outputs": [],
   "source": [
    "def decode_batch(out):\n",
    "    ret = []\n",
    "    for j in range(out.shape[0]):\n",
    "        out_best = list(np.argmax(out[j, 2:], 1))\n",
    "        out_best = [k for k, g in itertools.groupby(out_best)]\n",
    "        outstr = []\n",
    "        for c in out_best:\n",
    "            outstr.append(c)\n",
    "        ret.append(outstr)\n",
    "    return ret"
   ]
  },
  {
   "cell_type": "code",
   "execution_count": 18,
   "metadata": {},
   "outputs": [
    {
     "name": "stdout",
     "output_type": "stream",
     "text": [
      "(1, 32, 581, 3)\n"
     ]
    }
   ],
   "source": [
    "X = np.expand_dims(img,axis=0)\n",
    "\n",
    "print X.shape"
   ]
  },
  {
   "cell_type": "code",
   "execution_count": 19,
   "metadata": {},
   "outputs": [],
   "source": [
    "S=model.predict(X)"
   ]
  },
  {
   "cell_type": "code",
   "execution_count": 20,
   "metadata": {},
   "outputs": [
    {
     "name": "stdout",
     "output_type": "stream",
     "text": [
      "[[2466, 3136, 2034, 3136, 2566, 3136, 1323, 3136, 38, 3136]]\n"
     ]
    }
   ],
   "source": [
    "print decode_batch(S)"
   ]
  },
  {
   "cell_type": "code",
   "execution_count": 22,
   "metadata": {},
   "outputs": [
    {
     "data": {
      "text/plain": [
       "(1, 550, 73)"
      ]
     },
     "execution_count": 22,
     "metadata": {},
     "output_type": "execute_result"
    }
   ],
   "source": [
    "S.shape"
   ]
  },
  {
   "cell_type": "code",
   "execution_count": null,
   "metadata": {},
   "outputs": [],
   "source": []
  },
  {
   "cell_type": "code",
   "execution_count": null,
   "metadata": {},
   "outputs": [],
   "source": []
  }
 ],
 "metadata": {
  "kernelspec": {
   "display_name": "Python 2",
   "language": "python",
   "name": "python2"
  },
  "language_info": {
   "codemirror_mode": {
    "name": "ipython",
    "version": 2
   },
   "file_extension": ".py",
   "mimetype": "text/x-python",
   "name": "python",
   "nbconvert_exporter": "python",
   "pygments_lexer": "ipython2",
   "version": "2.7.12"
  }
 },
 "nbformat": 4,
 "nbformat_minor": 2
}
