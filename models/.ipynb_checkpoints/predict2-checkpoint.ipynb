{
 "cells": [
  {
   "cell_type": "code",
   "execution_count": 3,
   "metadata": {},
   "outputs": [
    {
     "name": "stderr",
     "output_type": "stream",
     "text": [
      "/usr/local/lib/python2.7/dist-packages/h5py/__init__.py:36: FutureWarning: Conversion of the second argument of issubdtype from `float` to `np.floating` is deprecated. In future, it will be treated as `np.float64 == np.dtype(float).type`.\n",
      "  from ._conv import register_converters as _register_converters\n",
      "Using TensorFlow backend.\n"
     ]
    }
   ],
   "source": [
    "from keras.models import  Model\n",
    "import tensorflow as tf\n",
    "import numpy as np\n",
    "import cv2\n",
    "from keras.preprocessing.image import ImageDataGenerator, array_to_img,img_to_array,load_img\n",
    "from keras.layers import Conv2D,Lambda,Flatten,Activation\n",
    "from keras.models import load_model\n",
    "from keras import Sequential\n",
    "from keras.layers import Conv2D,Lambda,Flatten,Activation, Input\n",
    "from keras.optimizers import Adam\n",
    "import os\n",
    "import pickle\n",
    "test_datagen = ImageDataGenerator(rescale=1. / 255)\n",
    "model=load_model('first_try_maxout.h5',custom_objects={'tf':tf})\n",
    "model2 = Model(inputs=model.input,outputs=model.get_layer('maxout4').output)\n",
    "\n",
    "def sliding_windows(img):\n",
    "   \n",
    "    arr=[]\n",
    "    for i in range(32):\n",
    "        s=4*i\n",
    "        arr.append(S[:,s:s+32,:])\n",
    "    a = np.array(arr, dtype=np.float32)\n",
    "    out=model2.predict(a,batch_size=32,verbose=1)\n",
    "    print type(out)\n",
    "    return np.reshape(out,(32,128))"
   ]
  },
  {
   "cell_type": "code",
   "execution_count": 4,
   "metadata": {},
   "outputs": [],
   "source": [
    "with open(\"sequences.txt\", \"r\") as f:\n",
    "    seq_labels = pickle.load(f)\n",
    "img = cv2.imread(\"../data/Seq_data/\" + \"Sequence_\" + \"90001\" + \".png\")\n",
    "img = img / 255.\n",
    "img = cv2.resize(img,(152,32))\n",
    "\n",
    "labels_true=seq_labels[\"Sequence_\" + \"90001\" + \".png\"]"
   ]
  },
  {
   "cell_type": "code",
   "execution_count": 6,
   "metadata": {},
   "outputs": [
    {
     "data": {
      "text/plain": [
       "<matplotlib.image.AxesImage at 0x7f5170344410>"
      ]
     },
     "execution_count": 6,
     "metadata": {},
     "output_type": "execute_result"
    },
    {
     "data": {
      "image/png": "[encoded data removed]",
      "text/plain": [
       "<Figure size 432x288 with 1 Axes>"
      ]
     },
     "metadata": {},
     "output_type": "display_data"
    }
   ],
   "source": [
    "\n",
    "import matplotlib.pyplot as plt\n",
    "\n",
    "plt.imshow(img)"
   ]
  },
  {
   "cell_type": "code",
   "execution_count": null,
   "metadata": {},
   "outputs": [],
   "source": [
    "sliding_windows(img)"
   ]
  }
 ],
 "metadata": {
  "kernelspec": {
   "display_name": "Python 2",
   "language": "python",
   "name": "python2"
  },
  "language_info": {
   "codemirror_mode": {
    "name": "ipython",
    "version": 2
   },
   "file_extension": ".py",
   "mimetype": "text/x-python",
   "name": "python",
   "nbconvert_exporter": "python",
   "pygments_lexer": "ipython2",
   "version": "2.7.12"
  }
 },
 "nbformat": 4,
 "nbformat_minor": 2
}
