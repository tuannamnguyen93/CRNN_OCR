{
 "cells": [
  {
   "cell_type": "code",
   "execution_count": 1,
   "metadata": {},
   "outputs": [
    {
     "name": "stderr",
     "output_type": "stream",
     "text": [
      "/usr/local/lib/python2.7/dist-packages/h5py/__init__.py:36: FutureWarning: Conversion of the second argument of issubdtype from `float` to `np.floating` is deprecated. In future, it will be treated as `np.float64 == np.dtype(float).type`.\n",
      "  from ._conv import register_converters as _register_converters\n",
      "Using TensorFlow backend.\n"
     ]
    }
   ],
   "source": [
    "import os\n",
    "os.environ['CUDA_VISIBLE_DEVICES'] = '-1'\n",
    "from keras.models import  Model\n",
    "import tensorflow as tf\n",
    "import numpy as np\n",
    "import cv2\n",
    "from keras.preprocessing.image import ImageDataGenerator\n",
    "from keras.models import load_model\n",
    "from keras.models import Model\n",
    "from keras.preprocessing.image import ImageDataGenerator\n",
    "from keras.layers import Masking, Conv2D, Lambda, Flatten, Activation, Input, Reshape, LSTM, Dense, add, concatenate,BatchNormalization\n",
    "from keras.optimizers import Adam, SGD\n",
    "from keras import backend as K\n",
    "import os\n",
    "import pickle\n",
    "import sys\n"
   ]
  },
  {
   "cell_type": "code",
   "execution_count": 2,
   "metadata": {},
   "outputs": [],
   "source": [
    "model=load_model('first_try_maxout_3.h5',custom_objects={'tf':tf})\n",
    "model2 = Model(inputs=model.input,outputs=model.get_layer('maxout4').output)"
   ]
  },
  {
   "cell_type": "code",
   "execution_count": 4,
   "metadata": {},
   "outputs": [],
   "source": [
    "model2.save_weights(\"model2.hdf5\")"
   ]
  },
  {
   "cell_type": "code",
   "execution_count": 6,
   "metadata": {},
   "outputs": [],
   "source": [
    "def max_out(inputs, num_units, axis=None):\n",
    "    shape = inputs.get_shape().as_list()\n",
    "    if shape[0] is None:\n",
    "        shape[0] = -1\n",
    "    if axis is None:  # Assume that channel is the last dimension\n",
    "        axis = -1\n",
    "    num_channels = shape[axis]\n",
    "    if num_channels % num_units:\n",
    "        raise ValueError('number of features({}) is not a multiple of num_units({})'.format(num_channels, num_units))\n",
    "    shape[axis] = num_units\n",
    "    shape += [num_channels // num_units]\n",
    "    outputs = tf.reduce_max(tf.reshape(inputs, shape), -1, keepdims=False)\n",
    "    return outputs"
   ]
  },
  {
   "cell_type": "code",
   "execution_count": 7,
   "metadata": {},
   "outputs": [],
   "source": [
    "def ctc_lambda_func(args):\n",
    "    y_pred, labels, input_length, label_length = args\n",
    "\n",
    "    y_pred = y_pred[:, 2:, :]\n",
    "    \n",
    "\n",
    "    return K.ctc_batch_cost(labels, y_pred, input_length, label_length)"
   ]
  },
  {
   "cell_type": "code",
   "execution_count": 27,
   "metadata": {},
   "outputs": [],
   "source": [
    "input_data = Input(name='the_input', shape=(32,581,3), dtype='float32')\n",
    "inner = Conv2D(96, (9,9), padding='valid',name='conv1')(input_data)\n",
    "inner=Lambda(max_out,arguments={'num_units':48},name='maxout1')(inner)\n",
    "inner = Conv2D(128, (9,9), padding='valid',name='conv2')(inner)\n",
    "inner=Lambda(max_out,arguments={'num_units':64},name='maxout2')(inner)\n",
    "inner = Conv2D(256, (9,9), padding='valid',name='conv3')(inner)\n",
    "inner=Lambda(max_out,arguments={'num_units':128},name='maxout3')(inner)\n",
    "inner = Conv2D(512, (8,8), padding='valid',name='conv4')(inner)\n",
    "output=Lambda(max_out,arguments={'num_units':128},name='maxout4')(inner)\n"
   ]
  },
  {
   "cell_type": "code",
   "execution_count": 28,
   "metadata": {},
   "outputs": [],
   "source": [
    "model3 = Model(inputs=input_data, outputs=output)"
   ]
  },
  {
   "cell_type": "code",
   "execution_count": 29,
   "metadata": {},
   "outputs": [],
   "source": [
    "model3.load_weights(\"model2.hdf5\",by_name=True)"
   ]
  },
  {
   "cell_type": "code",
   "execution_count": 31,
   "metadata": {},
   "outputs": [],
   "source": [
    "output_maxout = Reshape((550,128))(model3.output)\n",
    "\n",
    "lstm_1=LSTM(128,return_sequences=True,kernel_initializer='he_normal',name='lstm1')(output_maxout)\n",
    "\n",
    "lstm_1b=LSTM(128,return_sequences=True,go_backwards=True,kernel_initializer='he_normal',name='lstm1b')(output_maxout)\n",
    "\n",
    "lstm_merge=concatenate([lstm_1,lstm_1b])\n",
    "\n",
    "    # lstm_2=LSTM(128,return_sequences=True,kernel_initializer='he_normal',name='lstm2')(lstm_merge)\n",
    "    #\n",
    "    # lstm_2b=LSTM(128,return_sequences=True,go_backwards=True,kernel_initializer='he_normal',name='lstm2b')(lstm_merge)\n",
    "\n",
    "    # inner=Dense(73,kernel_initializer='he_normal',name='dense')(concatenate([lstm_2,lstm_2b]))\n",
    "inner = Dense(73, kernel_initializer='he_normal', name='dense')(lstm_merge)\n",
    "\n",
    "y_pred = Activation('softmax',name='softmax')(inner)\n",
    "\n",
    "labels = Input(name='the_labels', shape=[20], dtype='float32')\n",
    "\n",
    "input_length = Input(name='input_length', shape=[1], dtype='int64')\n",
    "\n",
    "labels_length = Input(name='label_length', shape=[1], dtype='int64')\n",
    "\n",
    "loss_out = Lambda(ctc_lambda_func, output_shape=(1,), name='ctc')([y_pred, labels, input_length, labels_length])\n",
    "\n",
    "model4 = Model(inputs=[model3.input, labels, input_length, labels_length], outputs=loss_out)"
   ]
  },
  {
   "cell_type": "code",
   "execution_count": 32,
   "metadata": {},
   "outputs": [
    {
     "name": "stdout",
     "output_type": "stream",
     "text": [
      "__________________________________________________________________________________________________\n",
      "Layer (type)                    Output Shape         Param #     Connected to                     \n",
      "==================================================================================================\n",
      "the_input (InputLayer)          (None, 32, 581, 3)   0                                            \n",
      "__________________________________________________________________________________________________\n",
      "conv1 (Conv2D)                  (None, 24, 573, 96)  23424       the_input[0][0]                  \n",
      "__________________________________________________________________________________________________\n",
      "maxout1 (Lambda)                (None, 24, 573, 48)  0           conv1[0][0]                      \n",
      "__________________________________________________________________________________________________\n",
      "conv2 (Conv2D)                  (None, 16, 565, 128) 497792      maxout1[0][0]                    \n",
      "__________________________________________________________________________________________________\n",
      "maxout2 (Lambda)                (None, 16, 565, 64)  0           conv2[0][0]                      \n",
      "__________________________________________________________________________________________________\n",
      "conv3 (Conv2D)                  (None, 8, 557, 256)  1327360     maxout2[0][0]                    \n",
      "__________________________________________________________________________________________________\n",
      "maxout3 (Lambda)                (None, 8, 557, 128)  0           conv3[0][0]                      \n",
      "__________________________________________________________________________________________________\n",
      "conv4 (Conv2D)                  (None, 1, 550, 512)  4194816     maxout3[0][0]                    \n",
      "__________________________________________________________________________________________________\n",
      "maxout4 (Lambda)                (None, 1, 550, 128)  0           conv4[0][0]                      \n",
      "__________________________________________________________________________________________________\n",
      "reshape_4 (Reshape)             (None, 550, 128)     0           maxout4[0][0]                    \n",
      "__________________________________________________________________________________________________\n",
      "lstm1 (LSTM)                    (None, 550, 128)     131584      reshape_4[0][0]                  \n",
      "__________________________________________________________________________________________________\n",
      "lstm1b (LSTM)                   (None, 550, 128)     131584      reshape_4[0][0]                  \n",
      "__________________________________________________________________________________________________\n",
      "concatenate_2 (Concatenate)     (None, 550, 256)     0           lstm1[0][0]                      \n",
      "                                                                 lstm1b[0][0]                     \n",
      "__________________________________________________________________________________________________\n",
      "dense (Dense)                   (None, 550, 73)      18761       concatenate_2[0][0]              \n",
      "__________________________________________________________________________________________________\n",
      "softmax (Activation)            (None, 550, 73)      0           dense[0][0]                      \n",
      "__________________________________________________________________________________________________\n",
      "the_labels (InputLayer)         (None, 20)           0                                            \n",
      "__________________________________________________________________________________________________\n",
      "input_length (InputLayer)       (None, 1)            0                                            \n",
      "__________________________________________________________________________________________________\n",
      "label_length (InputLayer)       (None, 1)            0                                            \n",
      "__________________________________________________________________________________________________\n",
      "ctc (Lambda)                    (None, 1)            0           softmax[0][0]                    \n",
      "                                                                 the_labels[0][0]                 \n",
      "                                                                 input_length[0][0]               \n",
      "                                                                 label_length[0][0]               \n",
      "==================================================================================================\n",
      "Total params: 6,325,321\n",
      "Trainable params: 6,325,321\n",
      "Non-trainable params: 0\n",
      "__________________________________________________________________________________________________\n"
     ]
    }
   ],
   "source": [
    "model4.summary()"
   ]
  },
  {
   "cell_type": "code",
   "execution_count": null,
   "metadata": {},
   "outputs": [],
   "source": []
  }
 ],
 "metadata": {
  "kernelspec": {
   "display_name": "Python 2",
   "language": "python",
   "name": "python2"
  },
  "language_info": {
   "codemirror_mode": {
    "name": "ipython",
    "version": 2
   },
   "file_extension": ".py",
   "mimetype": "text/x-python",
   "name": "python",
   "nbconvert_exporter": "python",
   "pygments_lexer": "ipython2",
   "version": "2.7.12"
  }
 },
 "nbformat": 4,
 "nbformat_minor": 2
}
